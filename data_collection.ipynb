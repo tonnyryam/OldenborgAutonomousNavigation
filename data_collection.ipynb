{
 "cells": [
  {
   "cell_type": "markdown",
   "metadata": {},
   "source": [
    "# Teleoperation\n",
    "### Establish a connection with the controller:"
   ]
  },
  {
   "cell_type": "code",
   "execution_count": 1,
   "metadata": {},
   "outputs": [
    {
     "data": {
      "application/vnd.jupyter.widget-view+json": {
       "model_id": "0250c20922794483b6a5281a4ab651f0",
       "version_major": 2,
       "version_minor": 0
      },
      "text/plain": [
       "Controller()"
      ]
     },
     "metadata": {},
     "output_type": "display_data"
    }
   ],
   "source": [
    "import ipywidgets.widgets as widgets\n",
    "\n",
    "controller = widgets.Controller(index=0) # change index if necessary\n",
    "display(controller)"
   ]
  },
  {
   "cell_type": "markdown",
   "metadata": {},
   "source": [
    "It should say ``Connect gamepad and press any button.`` above until it is connected and receives an input. You should see representations of the 4 axes the joysticks move across and the buttons. If no input received, make sure no other kernels are interfering and/or try reconnecting the controller. This step cannot be combined with linking the controller to the wheels and the controller input display cannot be with the rest of the GUI for some reason.\n",
    "### Link joysticks to left and right wheels, establish video feed, and enable killswitch:"
   ]
  },
  {
   "cell_type": "code",
   "execution_count": 2,
   "metadata": {},
   "outputs": [
    {
     "name": "stdout",
     "output_type": "stream",
     "text": [
      "Error loading module `ublox_gps`: No module named 'serial'\n"
     ]
    }
   ],
   "source": [
    "from jetbot import Robot, Camera, bgr8_to_jpeg, Heartbeat\n",
    "import traitlets\n",
    "\n",
    "# link controller to motors\n",
    "\n",
    "robot = Robot()\n",
    "\n",
    "left_link = traitlets.dlink((controller.axes[1], 'value'), (robot.left_motor, 'value'), transform=lambda x: -x)\n",
    "right_link = traitlets.dlink((controller.axes[3], 'value'), (robot.right_motor, 'value'), transform=lambda x: -x)\n",
    "\n",
    "# establish video feed\n",
    "\n",
    "image = widgets.Image(format='jpeg', width=300, height=300)\n",
    "camera = Camera.instance()\n",
    "camera_link = traitlets.dlink((camera, 'value'), (image, 'value'), transform=bgr8_to_jpeg)\n",
    "\n",
    "# create killswitch function that ceases the JetBot's functions if disconnected\n",
    "\n",
    "def handle_heartbeat_status(change):\n",
    "    if change['new'] == Heartbeat.Status.dead:\n",
    "        camera_link.unlink()\n",
    "        left_link.unlink()\n",
    "        right_link.unlink()\n",
    "        robot.stop()\n",
    "\n",
    "heartbeat = Heartbeat(period=0.5)\n",
    "heartbeat.observe(handle_heartbeat_status, names='status')"
   ]
  },
  {
   "cell_type": "markdown",
   "metadata": {},
   "source": [
    "Left joystick is left wheel and same with right. If JetBot is not moving or there is input delay, try restarting the kernel and running each cell again one by one, waiting for each to finish before moving on to the next.\n",
    "# Data Collection\n",
    "### Create directories for data, define functions for image saving, and create GUI:"
   ]
  },
  {
   "cell_type": "code",
   "execution_count": 3,
   "metadata": {
    "scrolled": false
   },
   "outputs": [
    {
     "data": {
      "application/vnd.jupyter.widget-view+json": {
       "model_id": "77f23787e07d47cf81ff56348fe3f980",
       "version_major": 2,
       "version_minor": 0
      },
      "text/plain": [
       "Text(value='', description='Run name:', layout=Layout(width='300px'), placeholder='Enter suffix (e.g. run1)')"
      ]
     },
     "metadata": {},
     "output_type": "display_data"
    },
    {
     "data": {
      "application/vnd.jupyter.widget-view+json": {
       "model_id": "bbed2427a7114b65ad79bb3b9954a0b4",
       "version_major": 2,
       "version_minor": 0
      },
      "text/plain": [
       "HBox(children=(IntText(value=0, layout=Layout(height='64px', width='128px')), IntText(value=0, layout=Layout(h…"
      ]
     },
     "metadata": {},
     "output_type": "display_data"
    },
    {
     "data": {
      "application/vnd.jupyter.widget-view+json": {
       "model_id": "896c39db1dcb4b2592766bd7bbeda7c7",
       "version_major": 2,
       "version_minor": 0
      },
      "text/plain": [
       "HBox(children=(Button(description='⬅️ (LB)', layout=Layout(height='64px', width='128px'), style=ButtonStyle())…"
      ]
     },
     "metadata": {},
     "output_type": "display_data"
    },
    {
     "data": {
      "application/vnd.jupyter.widget-view+json": {
       "model_id": "616ef59638e8487db732330140cefb3d",
       "version_major": 2,
       "version_minor": 0
      },
      "text/plain": [
       "Image(value=b'\\xff\\xd8\\xff\\xe0\\x00\\x10JFIF\\x00\\x01\\x01\\x00\\x00\\x01\\x00\\x01\\x00\\x00\\xff\\xdb\\x00C\\x00\\x02\\x01\\x0…"
      ]
     },
     "metadata": {},
     "output_type": "display_data"
    }
   ],
   "source": [
    "import os\n",
    "import ipywidgets as widgets\n",
    "from IPython.display import display\n",
    "\n",
    "# Text box for user-defined run suffix (e.g. \"run1\")\n",
    "suffix_input = widgets.Text(\n",
    "    value='',\n",
    "    placeholder='Enter suffix (e.g. run1)',\n",
    "    description='Run name:',\n",
    "    layout=widgets.Layout(width='300px')\n",
    ")\n",
    "display(suffix_input)\n",
    "\n",
    "# Global to store paths initialized only after first save\n",
    "run_initialized = False\n",
    "run_dirs = {}\n",
    "\n",
    "def init_run_dirs():\n",
    "    global run_initialized, run_dirs\n",
    "    suffix = suffix_input.value.strip()\n",
    "    if not suffix:\n",
    "        print(\"❌ Please enter a suffix before saving.\")\n",
    "        return False\n",
    "\n",
    "    base_dir = os.path.join('./data', suffix)\n",
    "    labels = ['left', 'forward', 'right']\n",
    "    run_dirs = {}\n",
    "\n",
    "    for label in labels:\n",
    "        subfolder = f\"{label}_{suffix}\"\n",
    "        full_path = os.path.join(base_dir, subfolder)\n",
    "        os.makedirs(full_path, exist_ok=True)\n",
    "        run_dirs[label] = full_path\n",
    "\n",
    "    run_initialized = True\n",
    "    print(f\"✅ Initialized run folders under: {base_dir}\")\n",
    "    return True\n",
    "\n",
    "# Save snapshot function\n",
    "def save_snapshot(label):\n",
    "    if not run_initialized:\n",
    "        if not init_run_dirs():\n",
    "            return  # Abort save if suffix not provided\n",
    "\n",
    "    dir_path = run_dirs[label]\n",
    "    filename = f\"{label}_{suffix_input.value.strip()}_{len(os.listdir(dir_path))}.jpg\"\n",
    "    image_path = os.path.join(dir_path, filename)\n",
    "\n",
    "    with open(image_path, 'wb') as f:\n",
    "        f.write(image.value)\n",
    "\n",
    "# Save wrapper that updates count and checks init\n",
    "def save_and_update(label):\n",
    "    save_snapshot(label)\n",
    "    count_widgets[label].value = len(os.listdir(run_dirs[label]))\n",
    "\n",
    "# Button and counter widgets\n",
    "button_layout = widgets.Layout(width='128px', height='64px')\n",
    "\n",
    "count_widgets = {\n",
    "    'left': widgets.IntText(layout=button_layout, value=0),\n",
    "    'forward': widgets.IntText(layout=button_layout, value=0),\n",
    "    'right': widgets.IntText(layout=button_layout, value=0),\n",
    "}\n",
    "\n",
    "buttons = {\n",
    "    'left': widgets.Button(description='⬅️ (LB)', layout=button_layout),\n",
    "    'forward': widgets.Button(description='⬆️ (L2/R2)', layout=button_layout),\n",
    "    'right': widgets.Button(description='➡️ (RB)', layout=button_layout),\n",
    "}\n",
    "\n",
    "# Button click handlers\n",
    "buttons['left'].on_click(lambda x: save_and_update('left'))\n",
    "buttons['forward'].on_click(lambda x: save_and_update('forward'))\n",
    "buttons['right'].on_click(lambda x: save_and_update('right'))\n",
    "\n",
    "# Controller axis/button binding\n",
    "def make_button_handler(label):\n",
    "    def handler(change):\n",
    "        if change['new'] == 1.0:\n",
    "            save_and_update(label)\n",
    "    return handler\n",
    "\n",
    "controller.buttons[4].observe(make_button_handler('left'), names='value')     # LB\n",
    "controller.buttons[5].observe(make_button_handler('right'), names='value')    # RB\n",
    "controller.buttons[6].observe(make_button_handler('forward'), names='value')  # L2\n",
    "controller.buttons[7].observe(make_button_handler('forward'), names='value')  # R2\n",
    "\n",
    "# Display GUI\n",
    "display(widgets.HBox([count_widgets['left'], count_widgets['forward'], count_widgets['right']]))\n",
    "display(widgets.HBox([buttons['left'], buttons['forward'], buttons['right']]))\n",
    "display(image)"
   ]
  },
  {
   "cell_type": "markdown",
   "metadata": {},
   "source": [
    "##### Only in the event the killswitch is activated and the links are severed, use the cell below to reestablish them. If they weren't unlinked, your commands will be multiplied."
   ]
  },
  {
   "cell_type": "code",
   "execution_count": null,
   "metadata": {},
   "outputs": [],
   "source": [
    "left_link = traitlets.dlink((controller.axes[1], 'value'), (robot.left_motor, 'value'), transform=lambda x: -x)\n",
    "right_link = traitlets.dlink((controller.axes[3], 'value'), (robot.right_motor, 'value'), transform=lambda x: -x)\n",
    "camera_link = traitlets.dlink((camera, 'value'), (image, 'value'), transform=bgr8_to_jpeg)"
   ]
  }
 ],
 "metadata": {
  "kernelspec": {
   "display_name": "Python 3",
   "language": "python",
   "name": "python3"
  },
  "language_info": {
   "codemirror_mode": {
    "name": "ipython",
    "version": 3
   },
   "file_extension": ".py",
   "mimetype": "text/x-python",
   "name": "python",
   "nbconvert_exporter": "python",
   "pygments_lexer": "ipython3",
   "version": "3.6.9"
  }
 },
 "nbformat": 4,
 "nbformat_minor": 4
}
